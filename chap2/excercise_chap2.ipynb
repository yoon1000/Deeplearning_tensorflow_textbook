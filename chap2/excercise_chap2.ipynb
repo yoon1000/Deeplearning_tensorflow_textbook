{
 "cells": [
  {
   "cell_type": "code",
   "execution_count": 2,
   "metadata": {},
   "outputs": [],
   "source": [
    "import pandas as pd\n",
    "import numpy as np\n",
    "import tensorflow as tf\n",
    "\n",
    "import matplotlib.pyplot as plt\n",
    "%matplotlib inline\n",
    "\n",
    "import seaborn as sns\n",
    "sns.set(style = \"darkgrid\")"
   ]
  },
  {
   "cell_type": "code",
   "execution_count": 3,
   "metadata": {},
   "outputs": [],
   "source": [
    "cols = ['price', 'maint', 'doors', 'persons', 'lug_capacity', 'safety', 'output']\n",
    "cars = pd.read_csv('./data/car_evaluation.csv', names = cols, header = None)"
   ]
  },
  {
   "cell_type": "code",
   "execution_count": 5,
   "metadata": {},
   "outputs": [
    {
     "data": {
      "text/plain": [
       "<AxesSubplot:ylabel='output'>"
      ]
     },
     "execution_count": 5,
     "metadata": {},
     "output_type": "execute_result"
    },
    {
     "data": {
      "image/png": "[encoded data removed]",
      "text/plain": [
       "<Figure size 576x432 with 1 Axes>"
      ]
     },
     "metadata": {},
     "output_type": "display_data"
    }
   ],
   "source": [
    "plot_size = plt.rcParams[\"figure.figsize\"]\n",
    "plot_size[0] = 8\n",
    "plot_size[1] = 6\n",
    "plt.rcParams[\"figure.figsize\"] = plot_size\n",
    "cars.output.value_counts().plot(kind = 'pie', autopct = '%0.05f%%', colors = ['lightgreen', 'lightblue', 'orange', 'pink'],\n",
    "                                explode = (0.05, 0.05, 0.05, 0.05))"
   ]
  },
  {
   "cell_type": "code",
   "execution_count": 8,
   "metadata": {},
   "outputs": [],
   "source": [
    "price = pd.get_dummies(cars.price, prefix = 'price')\n",
    "maint = pd.get_dummies(cars.maint, prefix = 'maint')\n",
    "doors = pd.get_dummies(cars.doors, prefix = 'doors')\n",
    "persons = pd.get_dummies(cars.persons, prefix = 'persons')\n",
    "lug_capacity = pd.get_dummies(cars.lug_capacity, prefix = 'lug_capacity')\n",
    "safety = pd.get_dummies(cars.safety, prefix = 'safety')\n",
    "labels = pd.get_dummies(cars.output, prefix = 'condition')\n",
    "\n",
    "X = pd.concat([price, maint, doors, persons, lug_capacity, safety] , axis = 1)\n",
    "Y = labels.values"
   ]
  },
  {
   "cell_type": "code",
   "execution_count": 11,
   "metadata": {},
   "outputs": [],
   "source": [
    "from sklearn.model_selection import train_test_split\n",
    "X_train, X_test, Y_train, Y_test = train_test_split(X, Y, test_size = 0.20, random_state = 42)"
   ]
  },
  {
   "cell_type": "code",
   "execution_count": 13,
   "metadata": {},
   "outputs": [
    {
     "name": "stdout",
     "output_type": "stream",
     "text": [
      "Model: \"model_1\"\n",
      "_________________________________________________________________\n",
      " Layer (type)                Output Shape              Param #   \n",
      "=================================================================\n",
      " input_2 (InputLayer)        [(None, 21)]              0         \n",
      "                                                                 \n",
      " dense_3 (Dense)             (None, 15)                330       \n",
      "                                                                 \n",
      " dense_4 (Dense)             (None, 10)                160       \n",
      "                                                                 \n",
      " dense_5 (Dense)             (None, 4)                 44        \n",
      "                                                                 \n",
      "=================================================================\n",
      "Total params: 534\n",
      "Trainable params: 534\n",
      "Non-trainable params: 0\n",
      "_________________________________________________________________\n"
     ]
    }
   ],
   "source": [
    "from tensorflow.keras.layers import Input, Dense, Activation, Dropout\n",
    "from tensorflow.keras.models import Model\n",
    "\n",
    "input_layer = Input(shape = (X.shape[1],))\n",
    "dense_layer_1 = Dense(15, activation = 'relu')(input_layer)\n",
    "dense_layer_2 = Dense(10, activation = 'relu')(dense_layer_1)\n",
    "output = Dense(Y.shape[1], activation = 'softmax')(dense_layer_2)\n",
    "\n",
    "model = Model(inputs = input_layer, outputs = output)\n",
    "model.compile(loss = 'categorical_crossentropy', optimizer = 'adam', metrics = ['acc'])\n",
    "model.summary()"
   ]
  },
  {
   "cell_type": "code",
   "execution_count": 14,
   "metadata": {},
   "outputs": [
    {
     "name": "stdout",
     "output_type": "stream",
     "text": [
      "Epoch 1/50\n",
      "139/139 [==============================] - 2s 4ms/step - loss: 1.3282 - acc: 0.2896 - val_loss: 1.1416 - val_acc: 0.4621\n",
      "Epoch 2/50\n",
      "139/139 [==============================] - 0s 2ms/step - loss: 0.8564 - acc: 0.6796 - val_loss: 0.8189 - val_acc: 0.6643\n",
      "Epoch 3/50\n",
      "139/139 [==============================] - 0s 2ms/step - loss: 0.6150 - acc: 0.7529 - val_loss: 0.6630 - val_acc: 0.7148\n",
      "Epoch 4/50\n",
      "139/139 [==============================] - 0s 2ms/step - loss: 0.4815 - acc: 0.8009 - val_loss: 0.5461 - val_acc: 0.7401\n",
      "Epoch 5/50\n",
      "139/139 [==============================] - 0s 2ms/step - loss: 0.3966 - acc: 0.8452 - val_loss: 0.4717 - val_acc: 0.8267\n",
      "Epoch 6/50\n",
      "139/139 [==============================] - 0s 1ms/step - loss: 0.3485 - acc: 0.8606 - val_loss: 0.4286 - val_acc: 0.8375\n",
      "Epoch 7/50\n",
      "139/139 [==============================] - 0s 2ms/step - loss: 0.3173 - acc: 0.8769 - val_loss: 0.4060 - val_acc: 0.8267\n",
      "Epoch 8/50\n",
      "139/139 [==============================] - 0s 2ms/step - loss: 0.2928 - acc: 0.8824 - val_loss: 0.3806 - val_acc: 0.8484\n",
      "Epoch 9/50\n",
      "139/139 [==============================] - 0s 1ms/step - loss: 0.2717 - acc: 0.8887 - val_loss: 0.3604 - val_acc: 0.8448\n",
      "Epoch 10/50\n",
      "139/139 [==============================] - 0s 1ms/step - loss: 0.2541 - acc: 0.8914 - val_loss: 0.3425 - val_acc: 0.8520\n",
      "Epoch 11/50\n",
      "139/139 [==============================] - 0s 1ms/step - loss: 0.2386 - acc: 0.8995 - val_loss: 0.3262 - val_acc: 0.8664\n",
      "Epoch 12/50\n",
      "139/139 [==============================] - 0s 1ms/step - loss: 0.2254 - acc: 0.9005 - val_loss: 0.3169 - val_acc: 0.8592\n",
      "Epoch 13/50\n",
      "139/139 [==============================] - 0s 1ms/step - loss: 0.2134 - acc: 0.9041 - val_loss: 0.2996 - val_acc: 0.8700\n",
      "Epoch 14/50\n",
      "139/139 [==============================] - 0s 1ms/step - loss: 0.2003 - acc: 0.9068 - val_loss: 0.2903 - val_acc: 0.8628\n",
      "Epoch 15/50\n",
      "139/139 [==============================] - 0s 1ms/step - loss: 0.1900 - acc: 0.9131 - val_loss: 0.2768 - val_acc: 0.8628\n",
      "Epoch 16/50\n",
      "139/139 [==============================] - 0s 2ms/step - loss: 0.1802 - acc: 0.9104 - val_loss: 0.2673 - val_acc: 0.8592\n",
      "Epoch 17/50\n",
      "139/139 [==============================] - 0s 1ms/step - loss: 0.1710 - acc: 0.9176 - val_loss: 0.2611 - val_acc: 0.8664\n",
      "Epoch 18/50\n",
      "139/139 [==============================] - 0s 2ms/step - loss: 0.1632 - acc: 0.9195 - val_loss: 0.2505 - val_acc: 0.8700\n",
      "Epoch 19/50\n",
      "139/139 [==============================] - 0s 1ms/step - loss: 0.1552 - acc: 0.9312 - val_loss: 0.2415 - val_acc: 0.8845\n",
      "Epoch 20/50\n",
      "139/139 [==============================] - 0s 2ms/step - loss: 0.1483 - acc: 0.9321 - val_loss: 0.2351 - val_acc: 0.8881\n",
      "Epoch 21/50\n",
      "139/139 [==============================] - 0s 1ms/step - loss: 0.1406 - acc: 0.9421 - val_loss: 0.2606 - val_acc: 0.8664\n",
      "Epoch 22/50\n",
      "139/139 [==============================] - 0s 1ms/step - loss: 0.1408 - acc: 0.9412 - val_loss: 0.2187 - val_acc: 0.8917\n",
      "Epoch 23/50\n",
      "139/139 [==============================] - 0s 1ms/step - loss: 0.1318 - acc: 0.9493 - val_loss: 0.2211 - val_acc: 0.8881\n",
      "Epoch 24/50\n",
      "139/139 [==============================] - 0s 1ms/step - loss: 0.1261 - acc: 0.9466 - val_loss: 0.2165 - val_acc: 0.8917\n",
      "Epoch 25/50\n",
      "139/139 [==============================] - 0s 1ms/step - loss: 0.1217 - acc: 0.9502 - val_loss: 0.1992 - val_acc: 0.9061\n",
      "Epoch 26/50\n",
      "139/139 [==============================] - 0s 1ms/step - loss: 0.1167 - acc: 0.9529 - val_loss: 0.1950 - val_acc: 0.9097\n",
      "Epoch 27/50\n",
      "139/139 [==============================] - 0s 1ms/step - loss: 0.1136 - acc: 0.9548 - val_loss: 0.1914 - val_acc: 0.9134\n",
      "Epoch 28/50\n",
      "139/139 [==============================] - 0s 1ms/step - loss: 0.1082 - acc: 0.9575 - val_loss: 0.2020 - val_acc: 0.8953\n",
      "Epoch 29/50\n",
      "139/139 [==============================] - 0s 2ms/step - loss: 0.1046 - acc: 0.9566 - val_loss: 0.1856 - val_acc: 0.9170\n",
      "Epoch 30/50\n",
      "139/139 [==============================] - 0s 2ms/step - loss: 0.1006 - acc: 0.9602 - val_loss: 0.1747 - val_acc: 0.9206\n",
      "Epoch 31/50\n",
      "139/139 [==============================] - 0s 1ms/step - loss: 0.0978 - acc: 0.9602 - val_loss: 0.1785 - val_acc: 0.9242\n",
      "Epoch 32/50\n",
      "139/139 [==============================] - 0s 2ms/step - loss: 0.0948 - acc: 0.9611 - val_loss: 0.1674 - val_acc: 0.9242\n",
      "Epoch 33/50\n",
      "139/139 [==============================] - 0s 1ms/step - loss: 0.0949 - acc: 0.9602 - val_loss: 0.1723 - val_acc: 0.9242\n",
      "Epoch 34/50\n",
      "139/139 [==============================] - 0s 1ms/step - loss: 0.0882 - acc: 0.9638 - val_loss: 0.1597 - val_acc: 0.9242\n",
      "Epoch 35/50\n",
      "139/139 [==============================] - 0s 1ms/step - loss: 0.0849 - acc: 0.9738 - val_loss: 0.1578 - val_acc: 0.9314\n",
      "Epoch 36/50\n",
      "139/139 [==============================] - 0s 1ms/step - loss: 0.0810 - acc: 0.9729 - val_loss: 0.1503 - val_acc: 0.9242\n",
      "Epoch 37/50\n",
      "139/139 [==============================] - 0s 2ms/step - loss: 0.0779 - acc: 0.9774 - val_loss: 0.1440 - val_acc: 0.9350\n",
      "Epoch 38/50\n",
      "139/139 [==============================] - 0s 1ms/step - loss: 0.0728 - acc: 0.9783 - val_loss: 0.1384 - val_acc: 0.9314\n",
      "Epoch 39/50\n",
      "139/139 [==============================] - 0s 2ms/step - loss: 0.0699 - acc: 0.9792 - val_loss: 0.1224 - val_acc: 0.9422\n",
      "Epoch 40/50\n",
      "139/139 [==============================] - 0s 1ms/step - loss: 0.0648 - acc: 0.9819 - val_loss: 0.1209 - val_acc: 0.9350\n",
      "Epoch 41/50\n",
      "139/139 [==============================] - 0s 2ms/step - loss: 0.0594 - acc: 0.9846 - val_loss: 0.1088 - val_acc: 0.9531\n",
      "Epoch 42/50\n",
      "139/139 [==============================] - 0s 1ms/step - loss: 0.0563 - acc: 0.9846 - val_loss: 0.1074 - val_acc: 0.9386\n",
      "Epoch 43/50\n",
      "139/139 [==============================] - 0s 1ms/step - loss: 0.0493 - acc: 0.9928 - val_loss: 0.0938 - val_acc: 0.9639\n",
      "Epoch 44/50\n",
      "139/139 [==============================] - 0s 1ms/step - loss: 0.0426 - acc: 0.9964 - val_loss: 0.0907 - val_acc: 0.9603\n",
      "Epoch 45/50\n",
      "139/139 [==============================] - 0s 2ms/step - loss: 0.0395 - acc: 0.9964 - val_loss: 0.0831 - val_acc: 0.9639\n",
      "Epoch 46/50\n",
      "139/139 [==============================] - 0s 1ms/step - loss: 0.0342 - acc: 0.9973 - val_loss: 0.0734 - val_acc: 0.9747\n",
      "Epoch 47/50\n",
      "139/139 [==============================] - 0s 2ms/step - loss: 0.0307 - acc: 0.9964 - val_loss: 0.0742 - val_acc: 0.9711\n",
      "Epoch 48/50\n",
      "139/139 [==============================] - 0s 1ms/step - loss: 0.0280 - acc: 0.9964 - val_loss: 0.0725 - val_acc: 0.9711\n",
      "Epoch 49/50\n",
      "139/139 [==============================] - 0s 1ms/step - loss: 0.0249 - acc: 0.9973 - val_loss: 0.0617 - val_acc: 0.9819\n",
      "Epoch 50/50\n",
      "139/139 [==============================] - 0s 1ms/step - loss: 0.0240 - acc: 0.9982 - val_loss: 0.0556 - val_acc: 0.9819\n"
     ]
    }
   ],
   "source": [
    "history = model.fit(X_train, Y_train, batch_size = 8, epochs = 50, verbose = 1, validation_split = 0.2)"
   ]
  },
  {
   "cell_type": "code",
   "execution_count": 15,
   "metadata": {},
   "outputs": [
    {
     "name": "stdout",
     "output_type": "stream",
     "text": [
      "11/11 [==============================] - 0s 2ms/step - loss: 0.0662 - acc: 0.9769\n",
      "Test Score :  0.06618161499500275\n",
      "Test Accuracy :  0.9768785834312439\n"
     ]
    }
   ],
   "source": [
    "score = model.evaluate(X_test, Y_test, verbose = 1)\n",
    "print(\"Test Score : \", score[0])\n",
    "print(\"Test Accuracy : \", score[1])"
   ]
  }
 ],
 "metadata": {
  "kernelspec": {
   "display_name": "tf-gpu",
   "language": "python",
   "name": "python3"
  },
  "language_info": {
   "codemirror_mode": {
    "name": "ipython",
    "version": 3
   },
   "file_extension": ".py",
   "mimetype": "text/x-python",
   "name": "python",
   "nbconvert_exporter": "python",
   "pygments_lexer": "ipython3",
   "version": "3.9.12"
  },
  "orig_nbformat": 4
 },
 "nbformat": 4,
 "nbformat_minor": 2
}
